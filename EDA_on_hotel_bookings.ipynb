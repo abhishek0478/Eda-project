{
  "nbformat": 4,
  "nbformat_minor": 0,
  "metadata": {
    "colab": {
      "provenance": [],
      "authorship_tag": "ABX9TyMJ42I2OVPnoD0KwXr+sSM5",
      "include_colab_link": true
    },
    "kernelspec": {
      "name": "python3",
      "display_name": "Python 3"
    },
    "language_info": {
      "name": "python"
    }
  },
  "cells": [
    {
      "cell_type": "markdown",
      "metadata": {
        "id": "view-in-github",
        "colab_type": "text"
      },
      "source": [
        "<a href=\"https://colab.research.google.com/github/abhishek0478/Eda-project/blob/main/EDA_on_hotel_bookings.ipynb\" target=\"_parent\"><img src=\"https://colab.research.google.com/assets/colab-badge.svg\" alt=\"Open In Colab\"/></a>"
      ]
    },
    {
      "cell_type": "code",
      "source": [
        "import pandas as pd\n",
        "\n",
        "from google.colab import drive"
      ],
      "metadata": {
        "id": "Yy0hhjvsVobN"
      },
      "execution_count": 14,
      "outputs": []
    },
    {
      "cell_type": "code",
      "source": [
        "path='/content/drive/MyDrive/Hotel Bookings.csv'\n"
      ],
      "metadata": {
        "id": "lwGZPIWZ5IsE"
      },
      "execution_count": 27,
      "outputs": []
    },
    {
      "cell_type": "code",
      "source": [
        "df = pd.read_csv(path)\n",
        "print(df)"
      ],
      "metadata": {
        "id": "d47shzLq5Inc",
        "colab": {
          "base_uri": "https://localhost:8080/"
        },
        "outputId": "f7b2a5c6-ab02-4c2f-89ef-6aa946021faa"
      },
      "execution_count": 28,
      "outputs": [
        {
          "output_type": "stream",
          "name": "stdout",
          "text": [
            "               hotel  is_canceled  lead_time  arrival_date_year  \\\n",
            "0       Resort Hotel            0        342               2015   \n",
            "1       Resort Hotel            0        737               2015   \n",
            "2       Resort Hotel            0          7               2015   \n",
            "3       Resort Hotel            0         13               2015   \n",
            "4       Resort Hotel            0         14               2015   \n",
            "...              ...          ...        ...                ...   \n",
            "119385    City Hotel            0         23               2017   \n",
            "119386    City Hotel            0        102               2017   \n",
            "119387    City Hotel            0         34               2017   \n",
            "119388    City Hotel            0        109               2017   \n",
            "119389    City Hotel            0        205               2017   \n",
            "\n",
            "       arrival_date_month  arrival_date_week_number  \\\n",
            "0                    July                        27   \n",
            "1                    July                        27   \n",
            "2                    July                        27   \n",
            "3                    July                        27   \n",
            "4                    July                        27   \n",
            "...                   ...                       ...   \n",
            "119385             August                        35   \n",
            "119386             August                        35   \n",
            "119387             August                        35   \n",
            "119388             August                        35   \n",
            "119389             August                        35   \n",
            "\n",
            "        arrival_date_day_of_month  stays_in_weekend_nights  \\\n",
            "0                               1                        0   \n",
            "1                               1                        0   \n",
            "2                               1                        0   \n",
            "3                               1                        0   \n",
            "4                               1                        0   \n",
            "...                           ...                      ...   \n",
            "119385                         30                        2   \n",
            "119386                         31                        2   \n",
            "119387                         31                        2   \n",
            "119388                         31                        2   \n",
            "119389                         29                        2   \n",
            "\n",
            "        stays_in_week_nights  adults  ...  deposit_type  agent company  \\\n",
            "0                          0       2  ...    No Deposit    NaN     NaN   \n",
            "1                          0       2  ...    No Deposit    NaN     NaN   \n",
            "2                          1       1  ...    No Deposit    NaN     NaN   \n",
            "3                          1       1  ...    No Deposit  304.0     NaN   \n",
            "4                          2       2  ...    No Deposit  240.0     NaN   \n",
            "...                      ...     ...  ...           ...    ...     ...   \n",
            "119385                     5       2  ...    No Deposit  394.0     NaN   \n",
            "119386                     5       3  ...    No Deposit    9.0     NaN   \n",
            "119387                     5       2  ...    No Deposit    9.0     NaN   \n",
            "119388                     5       2  ...    No Deposit   89.0     NaN   \n",
            "119389                     7       2  ...    No Deposit    9.0     NaN   \n",
            "\n",
            "       days_in_waiting_list customer_type     adr  \\\n",
            "0                         0     Transient    0.00   \n",
            "1                         0     Transient    0.00   \n",
            "2                         0     Transient   75.00   \n",
            "3                         0     Transient   75.00   \n",
            "4                         0     Transient   98.00   \n",
            "...                     ...           ...     ...   \n",
            "119385                    0     Transient   96.14   \n",
            "119386                    0     Transient  225.43   \n",
            "119387                    0     Transient  157.71   \n",
            "119388                    0     Transient  104.40   \n",
            "119389                    0     Transient  151.20   \n",
            "\n",
            "        required_car_parking_spaces  total_of_special_requests  \\\n",
            "0                                 0                          0   \n",
            "1                                 0                          0   \n",
            "2                                 0                          0   \n",
            "3                                 0                          0   \n",
            "4                                 0                          1   \n",
            "...                             ...                        ...   \n",
            "119385                            0                          0   \n",
            "119386                            0                          2   \n",
            "119387                            0                          4   \n",
            "119388                            0                          0   \n",
            "119389                            0                          2   \n",
            "\n",
            "        reservation_status reservation_status_date  \n",
            "0                Check-Out              2015-07-01  \n",
            "1                Check-Out              2015-07-01  \n",
            "2                Check-Out              2015-07-02  \n",
            "3                Check-Out              2015-07-02  \n",
            "4                Check-Out              2015-07-03  \n",
            "...                    ...                     ...  \n",
            "119385           Check-Out              2017-09-06  \n",
            "119386           Check-Out              2017-09-07  \n",
            "119387           Check-Out              2017-09-07  \n",
            "119388           Check-Out              2017-09-07  \n",
            "119389           Check-Out              2017-09-07  \n",
            "\n",
            "[119390 rows x 32 columns]\n"
          ]
        }
      ]
    },
    {
      "cell_type": "code",
      "source": [],
      "metadata": {
        "id": "f3xs4pYk5Ik4"
      },
      "execution_count": null,
      "outputs": []
    }
  ]
}